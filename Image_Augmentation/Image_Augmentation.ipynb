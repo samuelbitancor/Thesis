{
 "cells": [
  {
   "cell_type": "code",
   "execution_count": 6,
   "id": "84071fc4",
   "metadata": {},
   "outputs": [],
   "source": [
    "# IMAGE AUGMENTATION\n",
    "import numpy as np\n",
    "import keras\n",
    "from keras.preprocessing.image import ImageDataGenerator, array_to_img, img_to_array, load_img\n",
    "import os\n",
    "\n",
    "datagen = ImageDataGenerator(\n",
    "    \n",
    "    #Clockwise\n",
    "    rotation_range=40,\n",
    "    \n",
    "    #Left\n",
    "    width_shift_range=0.2,\n",
    "    \n",
    "    #Upward\n",
    "    height_shift_range=0.2,\n",
    "    \n",
    "    #Left to Right\n",
    "    shear_range=0.2,\n",
    "    \n",
    "    #Zoom-in\n",
    "    zoom_range=0.2,\n",
    "    horizontal_flip=False,\n",
    "    \n",
    "    #Brightness (Darken, Lighten)\n",
    "    brightness_range=[0.8, 1.2],\n",
    "    \n",
    "    #Size/Shape\n",
    "    #data_format='channels_last'\n",
    "    \n",
    "    #Outside\n",
    "    fill_mode='nearest')\n",
    "\n",
    "imgs = os.listdir(\"input\")\n",
    "\n",
    "for img in imgs:\n",
    "    img = load_img(\"input\"+\"\\\\\"+img)\n",
    "    x = img_to_array(img)\n",
    "    x = x.reshape((1,) + x.shape)\n",
    "\n",
    "    i = 1\n",
    "    for batch in datagen.flow(\n",
    "        x, \n",
    "        batch_size=1, \n",
    "        save_to_dir =r'output', \n",
    "        #save_prefix ='augment', \n",
    "        save_format='jpg'):\n",
    "        i += 1\n",
    "        if i > 5:\n",
    "            break"
   ]
  },
  {
   "cell_type": "code",
   "execution_count": 7,
   "id": "8033e527",
   "metadata": {},
   "outputs": [],
   "source": [
    "# RENAME FILES\n",
    "import os\n",
    "\n",
    "folder = r'output//'\n",
    "prefix = 'R5_1P_'\n",
    "count = 1\n",
    "\n",
    "for file_name in os.listdir(folder):\n",
    "    # Construct old file name\n",
    "    source = folder + file_name\n",
    "\n",
    "    # Adding the count to the new file name and extension\n",
    "    destination = folder + prefix + str(count) + \".jpg\"\n",
    "\n",
    "    # Renaming the file\n",
    "    os.rename(source, destination)\n",
    "    count += 1"
   ]
  },
  {
   "cell_type": "code",
   "execution_count": null,
   "id": "de61f994",
   "metadata": {},
   "outputs": [],
   "source": []
  }
 ],
 "metadata": {
  "kernelspec": {
   "display_name": "Python 3 (ipykernel)",
   "language": "python",
   "name": "python3"
  },
  "language_info": {
   "codemirror_mode": {
    "name": "ipython",
    "version": 3
   },
   "file_extension": ".py",
   "mimetype": "text/x-python",
   "name": "python",
   "nbconvert_exporter": "python",
   "pygments_lexer": "ipython3",
   "version": "3.9.7"
  }
 },
 "nbformat": 4,
 "nbformat_minor": 5
}
